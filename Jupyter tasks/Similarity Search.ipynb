{
 "cells": [
  {
   "cell_type": "markdown",
   "source": [
    "## Graph Similarity Search Project ##\n",
    "### This is the implementation for the similarity search project using python with Neo4j"
   ],
   "metadata": {}
  },
  {
   "cell_type": "code",
   "execution_count": 1,
   "source": [
    "# This program fetches the required user's facebook data via the free facebook api.\r\n",
    "# It currently fetches friend's data, but it can be extended.\r\n",
    "# Author: Ajose Opeyemi\r\n",
    "\r\n",
    "# importing the requests library for fetching the required webpage\r\n",
    "import requests as r\r\n",
    "import pandas as pd\r\n",
    "import json\r\n",
    "\r\n",
    "# setting up parameters\r\n",
    "# Importing the \"friend's\" list downloaded from facebook\r\n",
    "file = r\"C:\\Users\\Victor\\Desktop\\Bae\\Code files\\facebook-Elvicharde\\friends_and_followers\\friends.json\"\r\n",
    "with open(file) as friends_data:\r\n",
    "    friends = json.load(friends_data)\r\n",
    "    friends_data.close()"
   ],
   "outputs": [],
   "metadata": {}
  },
  {
   "cell_type": "code",
   "execution_count": 2,
   "source": [
    "# Parsing and handling the data\r\n",
    "\r\n",
    "me = \"Elvicharde\"\r\n",
    "friends_list = friends['friends_v2']\r\n",
    "\r\n",
    "for friend in friends_list:\r\n",
    "    #cleaning up the imported data\r\n",
    "    friend['ID'] = friend.pop('timestamp')\r\n",
    "    friend['Friends'] = friend.pop('name')\r\n",
    "    \r\n",
    "friends_data = pd.DataFrame(friends_list)    #Setting up a dataframe\r\n",
    "del friends_data['contact_info']    # Cleaning up the dataframe.\r\n",
    "print(friends_data)    # Printing the first 3 rows"
   ],
   "outputs": [
    {
     "output_type": "stream",
     "name": "stdout",
     "text": [
      "             ID                   Friends\n",
      "0    1627383250               Collins Obi\n",
      "1    1626987935  Ademola Ebenezer Adeyemi\n",
      "2    1626987929           Blessing Mathew\n",
      "3    1626987884               Tosin Akeem\n",
      "4    1622810997          Olaniyi Akintayo\n",
      "..          ...                       ...\n",
      "783  1268394361              Sodique Alim\n",
      "784  1268329470       OluBorode Damie Ope\n",
      "785  1268329416         OluwaTosin Fabrio\n",
      "786  1268245796                 Sorad Jnr\n",
      "787  1268242864              Demi Dinakin\n",
      "\n",
      "[788 rows x 2 columns]\n"
     ]
    }
   ],
   "metadata": {}
  },
  {
   "cell_type": "code",
   "execution_count": null,
   "source": [],
   "outputs": [],
   "metadata": {}
  },
  {
   "cell_type": "markdown",
   "source": [
    "## Interfacing with Neo4j for visualization and query"
   ],
   "metadata": {}
  },
  {
   "cell_type": "code",
   "execution_count": 3,
   "source": [
    "# Creating the connection\r\n",
    "from neo4j import GraphDatabase, basic_auth\r\n",
    "from random import randint as randint\r\n",
    "\r\n",
    "\r\n",
    "####### import data into neo4j ##### \r\n",
    "#from neo4j import GraphDatabase\r\n",
    "\r\n",
    "friends_list = friends_data.values.tolist()\r\n",
    "commands = []\r\n",
    "\r\n",
    "# illegal_names = [1603558328,1589458329,1576927897,1574813063,1574452201,\r\n",
    "#                  1571760211,1548836078,1504036137,1499675661,1451300849,1304871572]\r\n",
    "\r\n",
    "root_user = 'CREATE (root:user {Name:\"Elvicharde\", ID:\"root_node\"})'    # The logged-in user/ account holder\r\n",
    "\r\n",
    "commands.append(root_user)    #Adding the user creation and alias to the cypher query list\r\n",
    "\r\n",
    "# Creating friends and matching to the root node\r\n",
    "for i in friends_list:\r\n",
    "#    if ((i[0] not in illegal_names) and (i[1].find('-') < 0)):\r\n",
    "    create_friends = (f'CREATE (f:friend {{Name: \"{i[1]}\", ID: {i[0]}}})')\r\n",
    "    create_relationships = f'MATCH (f:friend{{Name:\"{i[1]}\"}}), (root:user{{Name:\"Elvicharde\"}}) CREATE (f)-[:FRIENDS_WITH{{since: {randint(2010, 2021)}}}]->(root) RETURN * LIMIT 1'\r\n",
    "    # else:\r\n",
    "#     continue\r\n",
    "    commands.append(create_friends)\r\n",
    "    commands.append(create_relationships)\r\n",
    "commands[:5]"
   ],
   "outputs": [
    {
     "output_type": "execute_result",
     "data": {
      "text/plain": [
       "['CREATE (root:user {Name:\"Elvicharde\", ID:\"root_node\"})',\n",
       " 'CREATE (f:friend {Name: \"Collins Obi\", ID: 1627383250})',\n",
       " 'MATCH (f:friend{Name:\"Collins Obi\"}), (root:user{Name:\"Elvicharde\"}) CREATE (f)-[:FRIENDS_WITH{since: 2020}]->(root) RETURN * LIMIT 1',\n",
       " 'CREATE (f:friend {Name: \"Ademola Ebenezer Adeyemi\", ID: 1626987935})',\n",
       " 'MATCH (f:friend{Name:\"Ademola Ebenezer Adeyemi\"}), (root:user{Name:\"Elvicharde\"}) CREATE (f)-[:FRIENDS_WITH{since: 2015}]->(root) RETURN * LIMIT 1']"
      ]
     },
     "metadata": {},
     "execution_count": 3
    }
   ],
   "metadata": {}
  },
  {
   "cell_type": "code",
   "execution_count": 4,
   "source": [
    "def execute_commands(commands):\r\n",
    "    data_base_connection = GraphDatabase.driver(#uri = #\"bolt://54.89.206.251:7687\", auth=basic_auth(\"neo4j\", \"advancement-characteristic-energy\")) #for sandbox connection\r\n",
    "    uri = 'bolt://localhost:7687', auth = basic_auth('neo4j','similarity')) # for local dbms connection\r\n",
    "\r\n",
    "    session = data_base_connection.session()\r\n",
    "\r\n",
    "    # re-setting database to clean status\r\n",
    "    if session.run('MATCH (n) RETURN n'):\r\n",
    "        database_cleanup = 'MATCH (n) DETACH DELETE (n)'\r\n",
    "        session.run(database_cleanup)\r\n",
    "\r\n",
    "    # Populating with new data\r\n",
    "    for i in commands:\r\n",
    "        session.run(i)\r\n",
    "\r\n",
    "        \r\n",
    "execute_commands(commands)"
   ],
   "outputs": [],
   "metadata": {}
  },
  {
   "cell_type": "markdown",
   "source": [
    "## Running The Graph algorithms"
   ],
   "metadata": {}
  },
  {
   "cell_type": "code",
   "execution_count": null,
   "source": [
    "# First algorithm\r\n"
   ],
   "outputs": [],
   "metadata": {}
  }
 ],
 "metadata": {
  "kernelspec": {
   "name": "python3",
   "display_name": "Python 3.8.3 32-bit"
  },
  "language_info": {
   "codemirror_mode": {
    "name": "ipython",
    "version": 3
   },
   "file_extension": ".py",
   "mimetype": "text/x-python",
   "name": "python",
   "nbconvert_exporter": "python",
   "pygments_lexer": "ipython3",
   "version": "3.8.3"
  },
  "interpreter": {
   "hash": "8c77a13587ffc0b91470270c369249efa7c2ba70ba7726b1ad5fc01fa30e2cc8"
  }
 },
 "nbformat": 4,
 "nbformat_minor": 5
}