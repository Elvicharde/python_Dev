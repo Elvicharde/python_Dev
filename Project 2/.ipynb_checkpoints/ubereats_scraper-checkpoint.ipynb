{
 "cells": [
  {
   "cell_type": "markdown",
   "id": "listed-discrimination",
   "metadata": {},
   "source": [
    "# Ubereats Scraper\n",
    "\n",
    "### _This python code collects data about delivery-only restaurants in the city of Boston._"
   ]
  },
  {
   "cell_type": "code",
   "execution_count": null,
   "id": "whole-hours",
   "metadata": {},
   "outputs": [],
   "source": [
    "# Importing relevant packages\n",
    "from selenium import webdriver\n",
    "from bs4 import BeautifulSoup as Soup\n",
    "from time import sleep"
   ]
  },
  {
   "cell_type": "code",
   "execution_count": null,
   "id": "silver-occasion",
   "metadata": {},
   "outputs": [],
   "source": [
    "# Setting up the browser control scheme\n",
    "option = webdriver.chrome.options.Options()\n",
    "option.add_experimental_option('detach', True)\n",
    "driver = webdriver.Chrome(options=option)"
   ]
  },
  {
   "cell_type": "code",
   "execution_count": null,
   "id": "celtic-floor",
   "metadata": {},
   "outputs": [],
   "source": [
    "# fetching needed data\n",
    "url = \" \"\n",
    "driver.get(url)"
   ]
  }
 ],
 "metadata": {
  "kernelspec": {
   "display_name": "Python 3",
   "language": "python",
   "name": "python3"
  },
  "language_info": {
   "codemirror_mode": {
    "name": "ipython",
    "version": 3
   },
   "file_extension": ".py",
   "mimetype": "text/x-python",
   "name": "python",
   "nbconvert_exporter": "python",
   "pygments_lexer": "ipython3",
   "version": "3.8.3"
  }
 },
 "nbformat": 4,
 "nbformat_minor": 5
}
