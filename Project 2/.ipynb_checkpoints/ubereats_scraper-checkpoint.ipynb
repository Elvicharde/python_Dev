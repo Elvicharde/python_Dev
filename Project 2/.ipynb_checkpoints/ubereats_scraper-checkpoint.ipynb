{
 "cells": [
  {
   "cell_type": "markdown",
   "id": "listed-discrimination",
   "metadata": {},
   "source": [
    "# Ubereats Scraper\n",
    "\n",
    "### _This python code collects data about delivery-only restaurants in the city of Boston._"
   ]
  },
  {
   "cell_type": "code",
   "execution_count": null,
   "id": "whole-hours",
   "metadata": {},
   "outputs": [],
   "source": [
    "# Importing relevant packages\n",
    "import requests\n",
    "from selenium import webdriver\n",
    "import pandas as pd\n",
    "from bs4 import Beautifulsoup as Soup\n",
    "import openpyxl\n",
    "from time import sleep"
   ]
  },
  {
   "cell_type": "code",
   "execution_count": null,
   "id": "logical-suggestion",
   "metadata": {},
   "outputs": [],
   "source": []
  },
  {
   "cell_type": "code",
   "execution_count": 181,
   "id": "cultural-parliament",
   "metadata": {},
   "outputs": [],
   "source": [
    "from selenium import webdriver\n",
    "from bs4 import BeautifulSoup as Soup\n",
    "from time import sleep"
   ]
  },
  {
   "cell_type": "code",
   "execution_count": 182,
   "id": "absolute-zambia",
   "metadata": {},
   "outputs": [],
   "source": [
    "option = webdriver.chrome.options.Options()\n",
    "option.add_experimental_option('detach', True)\n",
    "driver = webdriver.Chrome(options=option)\n",
    "\n",
    "urls = [\"https://youtube.com\", \"https://google.com\",\"https://fb.com\", \"https://Upwork.com\", \"https://ymail.com\"]\n",
    "\n",
    "for index, url in enumerate(urls):\n",
    "    if index == 1:\n",
    "        driver.get(url)\n",
    "    else:\n",
    "        script = f'''window.open(\"{url}\", \"_blank\")'''\n",
    "        driver.execute_script(script)\n",
    "        sleep(1)"
   ]
  },
  {
   "cell_type": "code",
   "execution_count": 183,
   "id": "confirmed-extreme",
   "metadata": {},
   "outputs": [
    {
     "name": "stdout",
     "output_type": "stream",
     "text": [
      "Current Tab:  Google\n",
      "Current Tab:  Yahoo Mail\n",
      "Current Tab:  Upwork | The World’s Work Marketplace for Freelancing\n",
      "Current Tab:  Facebook – log in or sign up\n",
      "Current Tab:  YouTube\n",
      "\n",
      "Checking if current tab is Google.com!\n",
      "--------------------------------------------\n",
      "\n",
      "Checking if current tab is Google.com!\n",
      "--------------------------------------------\n",
      "\n",
      "Nah, this is Yahoo Mail. Closing now!\n",
      "\n",
      "\n",
      "Checking if current tab is Google.com!\n",
      "--------------------------------------------\n",
      "\n",
      "Nah, this is Upwork | The World’s Work Marketplace for Freelancing. Closing now!\n",
      "\n",
      "\n",
      "Checking if current tab is Google.com!\n",
      "--------------------------------------------\n",
      "\n",
      "Nah, this is Facebook – log in or sign up. Closing now!\n",
      "\n",
      "\n",
      "Checking if current tab is Google.com!\n",
      "--------------------------------------------\n",
      "\n",
      "Nah, this is YouTube. Closing now!\n",
      "\n",
      "--------------------------------------------\n",
      "\n",
      "Now, this is Google.\n",
      "Let us check the price of dollar today!\n",
      "\n",
      "Dollar is now 411.50 Nigerian Naira, as of today.\n"
     ]
    }
   ],
   "source": [
    "browser_tabs = driver.window_handles\n",
    "\n",
    "for tab in browser_tabs:\n",
    "    driver.switch_to.window(tab)\n",
    "    print(\"Current Tab: \", driver.title)\n",
    "    sleep(1)\n",
    "\n",
    "# Closing tabs other than google.com\n",
    "for tab in browser_tabs:\n",
    "    driver.switch_to.window(tab)\n",
    "    print(\"\\nChecking if current tab is Google.com!\")\n",
    "    print('--------------------------------------------')\n",
    "    if driver.title == \"Google\":\n",
    "        g_tab = tab       \n",
    "    else:\n",
    "        print(\"\\nNah, this is \"+ driver.title +\". Closing now!\\n\")\n",
    "        sleep(1)\n",
    "        driver.close()\n",
    "        \n",
    "driver.switch_to.window(g_tab)\n",
    "print('--------------------------------------------')\n",
    "print(\"\\nNow, this is \"+ driver.title +\".\\nLet us check the price of dollar today!\")\n",
    "search_box, search_button = [driver.find_element_by_xpath(val) for val in ['/html/body/div[1]/div[3]/form/div[1]/div[1]/div[1]/div/div[2]/input','/html/body/div[1]/div[3]/form/div[1]/div[1]/div[3]/center/input[1]']]\n",
    "search_box.send_keys(\"Dollar to Naira today\")\n",
    "search_button.click()\n",
    "print(\"\\nDollar is now \" + driver.find_element_by_class_name(\"b1hJbf\").text.split(\"\\n\")[1] + \", as of today.\")"
   ]
  },
  {
   "cell_type": "code",
   "execution_count": null,
   "id": "legitimate-hollywood",
   "metadata": {},
   "outputs": [],
   "source": []
  },
  {
   "cell_type": "code",
   "execution_count": null,
   "id": "guided-south",
   "metadata": {},
   "outputs": [],
   "source": []
  },
  {
   "cell_type": "code",
   "execution_count": null,
   "id": "detailed-syndication",
   "metadata": {},
   "outputs": [],
   "source": []
  },
  {
   "cell_type": "code",
   "execution_count": null,
   "id": "marked-enzyme",
   "metadata": {},
   "outputs": [],
   "source": []
  },
  {
   "cell_type": "code",
   "execution_count": null,
   "id": "least-fossil",
   "metadata": {},
   "outputs": [],
   "source": []
  },
  {
   "cell_type": "code",
   "execution_count": null,
   "id": "cheap-freedom",
   "metadata": {},
   "outputs": [],
   "source": []
  },
  {
   "cell_type": "code",
   "execution_count": null,
   "id": "automated-market",
   "metadata": {},
   "outputs": [],
   "source": []
  },
  {
   "cell_type": "code",
   "execution_count": null,
   "id": "limiting-provincial",
   "metadata": {},
   "outputs": [],
   "source": [
    "//*[@id=\"search\"]; //*[@id=\"search-icon-legacy\"]"
   ]
  }
 ],
 "metadata": {
  "kernelspec": {
   "display_name": "Python 3",
   "language": "python",
   "name": "python3"
  },
  "language_info": {
   "codemirror_mode": {
    "name": "ipython",
    "version": 3
   },
   "file_extension": ".py",
   "mimetype": "text/x-python",
   "name": "python",
   "nbconvert_exporter": "python",
   "pygments_lexer": "ipython3",
   "version": "3.8.3"
  }
 },
 "nbformat": 4,
 "nbformat_minor": 5
}
